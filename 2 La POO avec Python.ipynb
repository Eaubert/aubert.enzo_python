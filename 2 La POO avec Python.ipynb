{
 "cells": [
  {
   "cell_type": "markdown",
   "metadata": {},
   "source": [
    "# Les classes d'objets en python"
   ]
  },
  {
   "cell_type": "code",
   "execution_count": 8,
   "metadata": {},
   "outputs": [
    {
     "name": "stdout",
     "output_type": "stream",
     "text": [
      "14/09/1996\n",
      "Lech mich ma hersch\n",
      "Cocorico\n"
     ]
    }
   ],
   "source": [
    "class EtreHumain:\n",
    "    def __init__(self, datenaissance):\n",
    "        self.DateNaissance = datenaissance\n",
    "    \n",
    "    def show(self):\n",
    "        print(self.DateNaissance)\n",
    "\n",
    "class Francais(EtreHumain):\n",
    "    def SetNationality(self, nationality):\n",
    "        self.Nationality = nationality\n",
    "\n",
    "class Alsacien(Francais):\n",
    "    def SetLanguage(self, dialecte):\n",
    "        self.Dialecte = dialecte\n",
    "        \n",
    "Enzo = Alsacien(\"14/09/1996\")\n",
    "Enzo.show()\n",
    "Enzo.SetNationality(\"Cocorico\")\n",
    "Enzo.SetLanguage(\"Lech mich ma hersch\")\n",
    "print(Enzo.Dialecte)\n",
    "print(Enzo.Nationality)"
   ]
  },
  {
   "cell_type": "code",
   "execution_count": 17,
   "metadata": {},
   "outputs": [
    {
     "name": "stdout",
     "output_type": "stream",
     "text": [
      "0.10954689066609502\n",
      "c\n",
      "b\n",
      "b\n",
      "a\n",
      "b\n"
     ]
    }
   ],
   "source": [
    "import random\n",
    "\n",
    "testRandom = random.random()\n",
    "print(testRandom)\n",
    "\n",
    "print(random.choice(['a', 'b', 'c']))\n",
    "print(random.choice(['a', 'b', 'c']))\n",
    "print(random.choice(['a', 'b', 'c']))\n",
    "print(random.choice(['a', 'b', 'c']))\n",
    "print(random.choice(['a', 'b', 'c']))"
   ]
  },
  {
   "cell_type": "code",
   "execution_count": null,
   "metadata": {},
   "outputs": [],
   "source": []
  }
 ],
 "metadata": {
  "kernelspec": {
   "display_name": "Python 3",
   "language": "python",
   "name": "python3"
  },
  "language_info": {
   "codemirror_mode": {
    "name": "ipython",
    "version": 3
   },
   "file_extension": ".py",
   "mimetype": "text/x-python",
   "name": "python",
   "nbconvert_exporter": "python",
   "pygments_lexer": "ipython3",
   "version": "3.8.5"
  }
 },
 "nbformat": 4,
 "nbformat_minor": 4
}
