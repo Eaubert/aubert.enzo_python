{
 "cells": [
  {
   "cell_type": "markdown",
   "metadata": {},
   "source": [
    "# Les classes d'objets en python"
   ]
  },
  {
   "cell_type": "code",
   "execution_count": 4,
   "metadata": {},
   "outputs": [
    {
     "name": "stdout",
     "output_type": "stream",
     "text": [
      "14/09/1996\n"
     ]
    },
    {
     "ename": "AttributeError",
     "evalue": "'EtreHumain' object has no attribute 'SetNationality'",
     "output_type": "error",
     "traceback": [
      "\u001b[1;31m---------------------------------------------------------------------------\u001b[0m",
      "\u001b[1;31mAttributeError\u001b[0m                            Traceback (most recent call last)",
      "\u001b[1;32m<ipython-input-4-306aae5d5ab9>\u001b[0m in \u001b[0;36m<module>\u001b[1;34m\u001b[0m\n\u001b[0;32m     16\u001b[0m \u001b[0mEnzo\u001b[0m \u001b[1;33m=\u001b[0m \u001b[0mEtreHumain\u001b[0m\u001b[1;33m(\u001b[0m\u001b[1;34m\"14/09/1996\"\u001b[0m\u001b[1;33m)\u001b[0m\u001b[1;33m\u001b[0m\u001b[1;33m\u001b[0m\u001b[0m\n\u001b[0;32m     17\u001b[0m \u001b[0mEnzo\u001b[0m\u001b[1;33m.\u001b[0m\u001b[0mshow\u001b[0m\u001b[1;33m(\u001b[0m\u001b[1;33m)\u001b[0m\u001b[1;33m\u001b[0m\u001b[1;33m\u001b[0m\u001b[0m\n\u001b[1;32m---> 18\u001b[1;33m \u001b[0mEnzo\u001b[0m\u001b[1;33m.\u001b[0m\u001b[0mSetNationality\u001b[0m\u001b[1;33m(\u001b[0m\u001b[1;34m\"Cocorico\"\u001b[0m\u001b[1;33m)\u001b[0m\u001b[1;33m\u001b[0m\u001b[1;33m\u001b[0m\u001b[0m\n\u001b[0m\u001b[0;32m     19\u001b[0m \u001b[0mEnzo\u001b[0m\u001b[1;33m.\u001b[0m\u001b[0mSetLanguage\u001b[0m\u001b[1;33m(\u001b[0m\u001b[1;34m\"Lech mich ma hersch\"\u001b[0m\u001b[1;33m)\u001b[0m\u001b[1;33m\u001b[0m\u001b[1;33m\u001b[0m\u001b[0m\n\u001b[0;32m     20\u001b[0m \u001b[1;33m\u001b[0m\u001b[0m\n",
      "\u001b[1;31mAttributeError\u001b[0m: 'EtreHumain' object has no attribute 'SetNationality'"
     ]
    }
   ],
   "source": [
    "class EtreHumain:\n",
    "    def __init__(self, datenaissance):\n",
    "        self.DateNaissance = datenaissance\n",
    "    \n",
    "    def show(self):\n",
    "        print(self.DateNaissance)\n",
    "\n",
    "class Francais(EtreHumain):\n",
    "    def SetNationality(self, nationality):\n",
    "        self.Nationality = nationality\n",
    "\n",
    "class Alsacien(Francais):\n",
    "    def SetLanguage(self, dialecte):\n",
    "        self.Dialecte = dialecte\n",
    "        \n",
    "Enzo = EtreHumain(\"14/09/1996\")\n",
    "Enzo.show()\n",
    "Enzo.SetNationality(\"Cocorico\")\n",
    "Enzo.SetLanguage(\"Lech mich ma hersch\")\n",
    "\n",
    "print(Enzo.Dialecte)"
   ]
  },
  {
   "cell_type": "code",
   "execution_count": null,
   "metadata": {},
   "outputs": [],
   "source": []
  }
 ],
 "metadata": {
  "kernelspec": {
   "display_name": "Python 3",
   "language": "python",
   "name": "python3"
  },
  "language_info": {
   "codemirror_mode": {
    "name": "ipython",
    "version": 3
   },
   "file_extension": ".py",
   "mimetype": "text/x-python",
   "name": "python",
   "nbconvert_exporter": "python",
   "pygments_lexer": "ipython3",
   "version": "3.8.5"
  }
 },
 "nbformat": 4,
 "nbformat_minor": 4
}
