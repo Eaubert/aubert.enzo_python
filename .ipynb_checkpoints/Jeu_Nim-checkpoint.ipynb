{
 "cells": [
  {
   "cell_type": "code",
   "execution_count": null,
   "metadata": {},
   "outputs": [
    {
     "name": "stdout",
     "output_type": "stream",
     "text": [
      "Pour gagner une partie, vous ne devez pas retirer la dernière allumette.\n"
     ]
    },
    {
     "name": "stdin",
     "output_type": "stream",
     "text": [
      "Saisissez le nombre d'allumettes voulues. 13\n"
     ]
    },
    {
     "name": "stdout",
     "output_type": "stream",
     "text": [
      "Il y a 13 allumettes\n"
     ]
    },
    {
     "name": "stdin",
     "output_type": "stream",
     "text": [
      "Joueur 1, entrez le nombre d'allumettes à retirer (de 1 à 3). 2\n"
     ]
    },
    {
     "name": "stdout",
     "output_type": "stream",
     "text": [
      "1\n",
      "2\n",
      "3\n",
      "Saisie interdite.\n",
      "Il y a 13 allumettes\n"
     ]
    }
   ],
   "source": [
    "print(\"Pour gagner une partie, vous ne devez pas retirer la dernière allumette.\")\n",
    "\n",
    "valeurs_possibles = (1, 2, 3)\n",
    "\n",
    "nbAllumettes = input(\"Saisissez le nombre d'allumettes voulues.\")\n",
    "\n",
    "nbAllumettes = int(nbAllumettes)\n",
    "joueurBool = True\n",
    "\n",
    "while(nbAllumettes > 1):\n",
    "    if(joueurBool==True):\n",
    "        print(\"Il y a \"+str(nbAllumettes)+\" allumettes\")\n",
    "        joueur = \"Joueur 1\"\n",
    "        nbRetrait = input(joueur+\", entrez le nombre d'allumettes à retirer (de 1 à 3).\")\n",
    "        nbRetrait = int(nbRetrait)\n",
    "    \n",
    "        if(nbRetrait > 3) or (nbRetrait < 1) :\n",
    "            print(\"Saisie interdite.\")\n",
    "        else: \n",
    "            nbAllumettes = nbAllumettes - nbRetrait\n",
    "            joueurBool = False\n",
    "    else:\n",
    "        print(\"Il y a \"+str(nbAllumettes)+\" allumettes\")\n",
    "        joueur = \"Joueur 2\"\n",
    "        nbRetrait = input(joueur+\", entrez le nombre d'allumettes à retirer (de 1 à 3).\")\n",
    "        nbRetrait = int(nbRetrait)\n",
    "\n",
    "        if(nbRetrait > 3) or (nbRetrait < 1) :\n",
    "            print(\"Saisie interdite.\")\n",
    "        else: \n",
    "            nbAllumettes = nbAllumettes - nbRetrait\n",
    "            joueurBool = True\n",
    "\n",
    "if(joueurBool==True):\n",
    "    print(\"Le joueur 2 gagne la partie\")\n",
    "else:\n",
    "    print(\"Le joueur 1 gagne la partie\")"
   ]
  },
  {
   "cell_type": "code",
   "execution_count": null,
   "metadata": {},
   "outputs": [],
   "source": []
  }
 ],
 "metadata": {
  "kernelspec": {
   "display_name": "Python 3",
   "language": "python",
   "name": "python3"
  },
  "language_info": {
   "codemirror_mode": {
    "name": "ipython",
    "version": 3
   },
   "file_extension": ".py",
   "mimetype": "text/x-python",
   "name": "python",
   "nbconvert_exporter": "python",
   "pygments_lexer": "ipython3",
   "version": "3.8.5"
  }
 },
 "nbformat": 4,
 "nbformat_minor": 4
}
