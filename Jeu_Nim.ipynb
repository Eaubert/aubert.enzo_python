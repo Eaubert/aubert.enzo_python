{
 "cells": [
  {
   "cell_type": "code",
   "execution_count": 9,
   "metadata": {},
   "outputs": [
    {
     "name": "stdout",
     "output_type": "stream",
     "text": [
      "Pour gagner une partie, vous ne devez pas retirer la dernière allumette.\n"
     ]
    },
    {
     "name": "stdin",
     "output_type": "stream",
     "text": [
      "Saisissez le nom du joueur 1 :  Enzo\n",
      "Saisissez le nom du joueur 2 :  Manu\n",
      "Saisissez le nombre d'allumettes voulues :  15\n"
     ]
    },
    {
     "name": "stdout",
     "output_type": "stream",
     "text": [
      "Il y a 15 allumettes\n"
     ]
    },
    {
     "name": "stdin",
     "output_type": "stream",
     "text": [
      "Enzo, veuillez entrer le nombre d'allumettes à retirer (de 1 à 3). 5\n"
     ]
    },
    {
     "name": "stdout",
     "output_type": "stream",
     "text": [
      "Saisie interdite.\n",
      "Votre saisie doit être un entier compris entre 1 et 3.\n",
      "Il y a 15 allumettes\n"
     ]
    },
    {
     "name": "stdin",
     "output_type": "stream",
     "text": [
      "Enzo, veuillez entrer le nombre d'allumettes à retirer (de 1 à 3). aaaa\n"
     ]
    },
    {
     "name": "stdout",
     "output_type": "stream",
     "text": [
      "Saisie interdite.\n",
      "Votre saisie doit être un entier compris entre 1 et 3.\n",
      "Il y a 15 allumettes\n"
     ]
    },
    {
     "name": "stdin",
     "output_type": "stream",
     "text": [
      "Enzo, veuillez entrer le nombre d'allumettes à retirer (de 1 à 3). 3\n"
     ]
    },
    {
     "name": "stdout",
     "output_type": "stream",
     "text": [
      "Il y a 12 allumettes\n"
     ]
    },
    {
     "name": "stdin",
     "output_type": "stream",
     "text": [
      "Manu, veuillez entrer le nombre d'allumettes à retirer (de 1 à 3). 3\n"
     ]
    },
    {
     "name": "stdout",
     "output_type": "stream",
     "text": [
      "Il y a 9 allumettes\n"
     ]
    },
    {
     "name": "stdin",
     "output_type": "stream",
     "text": [
      "Enzo, veuillez entrer le nombre d'allumettes à retirer (de 1 à 3). 3\n"
     ]
    },
    {
     "name": "stdout",
     "output_type": "stream",
     "text": [
      "Il y a 6 allumettes\n"
     ]
    },
    {
     "name": "stdin",
     "output_type": "stream",
     "text": [
      "Manu, veuillez entrer le nombre d'allumettes à retirer (de 1 à 3). 3\n"
     ]
    },
    {
     "name": "stdout",
     "output_type": "stream",
     "text": [
      "Il y a 3 allumettes\n"
     ]
    },
    {
     "name": "stdin",
     "output_type": "stream",
     "text": [
      "Enzo, veuillez entrer le nombre d'allumettes à retirer (de 1 à 3). 2\n"
     ]
    },
    {
     "name": "stdout",
     "output_type": "stream",
     "text": [
      "Enzo gagne la partie\n"
     ]
    }
   ],
   "source": [
    "# Explication du but du jeu.\n",
    "print(\"Pour gagner une partie, vous ne devez pas retirer la dernière allumette.\")\n",
    "\n",
    "# Liste des valeurs saisies possibles pour les joueurs (correspond au nombre d'allumettes à retirer).\n",
    "valeurs_possibles = ['1', '2', '3']\n",
    "\n",
    "# On laisse les joueurs rentrer leurs prénoms\n",
    "nomJoueur1 = input(\"Saisissez le nom du joueur 1 : \")\n",
    "nomJoueur2 = input(\"Saisissez le nom du joueur 2 : \")\n",
    "\n",
    "# On laisse les joueurs choisir le nombre d'allumettes présentes dans le jeu\n",
    "# On vérifie que la saisie est bien un entier sinon on redemande la saisie à l'utilisateur.\n",
    "while True:\n",
    "    try:\n",
    "        nbAllumettes = int(input(\"Saisissez le nombre d'allumettes voulues : \"))\n",
    "        break\n",
    "    except ValueError:\n",
    "        print(\"Veuillez saisir uniquement un nombre entier.\")\n",
    "        continue\n",
    "\n",
    "nbAllumettes = int(nbAllumettes)\n",
    "\n",
    "# Si joueurBool == True le joueur 1 joue sinon c'est au tour du joueur 2\n",
    "joueurBool = True\n",
    "\n",
    "# Tant qu'il y a plus d'une allumette toujours en jeu, la partie continue\n",
    "while(nbAllumettes > 1):\n",
    "    # On vérifie quel joueur doit jouer le tour.\n",
    "    if(joueurBool==True):\n",
    "        print(\"Il y a \"+str(nbAllumettes)+\" allumettes\")\n",
    "        nbRetrait = input(nomJoueur1+\", veuillez entrer le nombre d'allumettes à retirer (de 1 à 3).\")\n",
    "        \n",
    "        # On vérifie que la saisie du joueur est bien contenue dans le tableau des possibilités.\n",
    "        if nbRetrait not in valeurs_possibles:\n",
    "            print(\"Saisie interdite.\")\n",
    "            print(\"Votre saisie doit être un entier compris entre 1 et 3.\")\n",
    "        else: \n",
    "            nbRetrait = int(nbRetrait)\n",
    "            nbAllumettes = nbAllumettes - nbRetrait\n",
    "            joueurBool = False\n",
    "    else:\n",
    "        print(\"Il y a \"+str(nbAllumettes)+\" allumettes\")\n",
    "        nbRetrait = input(nomJoueur2+\", veuillez entrer le nombre d'allumettes à retirer (de 1 à 3).\")\n",
    "        \n",
    "        if nbRetrait not in valeurs_possibles:\n",
    "            print(\"Saisie interdite.\")\n",
    "            print(\"Votre saisie doit être un entier compris entre 1 et 3.\")\n",
    "        else: \n",
    "            nbRetrait = int(nbRetrait)\n",
    "            nbAllumettes = nbAllumettes - nbRetrait\n",
    "            joueurBool = True\n",
    "\n",
    "# Le joueur devant jouer son tour a perdu la partie.\n",
    "if(joueurBool==True):\n",
    "    print(nomJoueur2 + \" gagne la partie\")\n",
    "else:\n",
    "    print(nomJoueur1 + \" gagne la partie\")"
   ]
  },
  {
   "cell_type": "code",
   "execution_count": null,
   "metadata": {},
   "outputs": [],
   "source": []
  },
  {
   "cell_type": "code",
   "execution_count": null,
   "metadata": {},
   "outputs": [],
   "source": []
  }
 ],
 "metadata": {
  "kernelspec": {
   "display_name": "Python 3",
   "language": "python",
   "name": "python3"
  },
  "language_info": {
   "codemirror_mode": {
    "name": "ipython",
    "version": 3
   },
   "file_extension": ".py",
   "mimetype": "text/x-python",
   "name": "python",
   "nbconvert_exporter": "python",
   "pygments_lexer": "ipython3",
   "version": "3.8.5"
  }
 },
 "nbformat": 4,
 "nbformat_minor": 4
}
