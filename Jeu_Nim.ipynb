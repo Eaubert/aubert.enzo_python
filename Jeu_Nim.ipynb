{
 "cells": [
  {
   "cell_type": "code",
   "execution_count": 42,
   "metadata": {},
   "outputs": [
    {
     "name": "stdout",
     "output_type": "stream",
     "text": [
      "Pour gagner une partie, vous ne devez pas retirer la dernière allumette.\n"
     ]
    },
    {
     "name": "stdin",
     "output_type": "stream",
     "text": [
      "Saisissez le nombre d'allumettes voulues. 13\n"
     ]
    },
    {
     "name": "stdout",
     "output_type": "stream",
     "text": [
      "Il y a 13 allumettes\n"
     ]
    },
    {
     "name": "stdin",
     "output_type": "stream",
     "text": [
      "Joueur 1, entrez le nombre d'allumettes à retirer (de 1 à 3). 4\n"
     ]
    },
    {
     "name": "stdout",
     "output_type": "stream",
     "text": [
      "Saisie interdite.\n",
      "Il y a 13 allumettes\n"
     ]
    },
    {
     "name": "stdin",
     "output_type": "stream",
     "text": [
      "Joueur 1, entrez le nombre d'allumettes à retirer (de 1 à 3). \n"
     ]
    },
    {
     "ename": "ValueError",
     "evalue": "invalid literal for int() with base 10: ''",
     "output_type": "error",
     "traceback": [
      "\u001b[1;31m---------------------------------------------------------------------------\u001b[0m",
      "\u001b[1;31mValueError\u001b[0m                                Traceback (most recent call last)",
      "\u001b[1;32m<ipython-input-42-08ad72f5bb40>\u001b[0m in \u001b[0;36m<module>\u001b[1;34m\u001b[0m\n\u001b[0;32m     13\u001b[0m         \u001b[0mjoueur\u001b[0m \u001b[1;33m=\u001b[0m \u001b[1;34m\"Joueur 1\"\u001b[0m\u001b[1;33m\u001b[0m\u001b[1;33m\u001b[0m\u001b[0m\n\u001b[0;32m     14\u001b[0m         \u001b[0mnbRetrait\u001b[0m \u001b[1;33m=\u001b[0m \u001b[0minput\u001b[0m\u001b[1;33m(\u001b[0m\u001b[0mjoueur\u001b[0m\u001b[1;33m+\u001b[0m\u001b[1;34m\", entrez le nombre d'allumettes à retirer (de 1 à 3).\"\u001b[0m\u001b[1;33m)\u001b[0m\u001b[1;33m\u001b[0m\u001b[1;33m\u001b[0m\u001b[0m\n\u001b[1;32m---> 15\u001b[1;33m         \u001b[0mnbRetrait\u001b[0m \u001b[1;33m=\u001b[0m \u001b[0mint\u001b[0m\u001b[1;33m(\u001b[0m\u001b[0mnbRetrait\u001b[0m\u001b[1;33m)\u001b[0m\u001b[1;33m\u001b[0m\u001b[1;33m\u001b[0m\u001b[0m\n\u001b[0m\u001b[0;32m     16\u001b[0m \u001b[1;33m\u001b[0m\u001b[0m\n\u001b[0;32m     17\u001b[0m         \u001b[1;32mif\u001b[0m\u001b[1;33m(\u001b[0m\u001b[0mnbRetrait\u001b[0m \u001b[1;33m>\u001b[0m \u001b[1;36m3\u001b[0m\u001b[1;33m)\u001b[0m \u001b[1;32mor\u001b[0m \u001b[1;33m(\u001b[0m\u001b[0mnbRetrait\u001b[0m \u001b[1;33m<\u001b[0m \u001b[1;36m1\u001b[0m\u001b[1;33m)\u001b[0m \u001b[1;33m:\u001b[0m\u001b[1;33m\u001b[0m\u001b[1;33m\u001b[0m\u001b[0m\n",
      "\u001b[1;31mValueError\u001b[0m: invalid literal for int() with base 10: ''"
     ]
    }
   ],
   "source": [
    "print(\"Pour gagner une partie, vous ne devez pas retirer la dernière allumette.\")\n",
    "\n",
    "valeurs_possibles = (1, 2, 3)\n",
    "\n",
    "nbAllumettes = input(\"Saisissez le nombre d'allumettes voulues.\")\n",
    "\n",
    "nbAllumettes = int(nbAllumettes)\n",
    "joueurBool = True\n",
    "\n",
    "while(nbAllumettes > 1):\n",
    "    if(joueurBool==True):\n",
    "        print(\"Il y a \"+str(nbAllumettes)+\" allumettes\")\n",
    "        joueur = \"Joueur 1\"\n",
    "        nbRetrait = input(joueur+\", entrez le nombre d'allumettes à retirer (de 1 à 3).\")\n",
    "        nbRetrait = int(nbRetrait)\n",
    "    \n",
    "        if(nbRetrait > 3) or (nbRetrait < 1) :\n",
    "            print(\"Saisie interdite.\")\n",
    "        else: \n",
    "            nbAllumettes = nbAllumettes - nbRetrait\n",
    "            joueurBool = False\n",
    "    else:\n",
    "        print(\"Il y a \"+str(nbAllumettes)+\" allumettes\")\n",
    "        joueur = \"Joueur 2\"\n",
    "        nbRetrait = input(joueur+\", entrez le nombre d'allumettes à retirer (de 1 à 3).\")\n",
    "        nbRetrait = int(nbRetrait)\n",
    "\n",
    "        if(nbRetrait > 3) or (nbRetrait < 1) :\n",
    "            print(\"Saisie interdite.\")\n",
    "        else: \n",
    "            nbAllumettes = nbAllumettes - nbRetrait\n",
    "            joueurBool = True\n",
    "\n",
    "if(joueurBool==True):\n",
    "    print(\"Le joueur 2 gagne la partie\")\n",
    "else:\n",
    "    print(\"Le joueur 1 gagne la partie\")"
   ]
  },
  {
   "cell_type": "code",
   "execution_count": null,
   "metadata": {},
   "outputs": [],
   "source": []
  }
 ],
 "metadata": {
  "kernelspec": {
   "display_name": "Python 3",
   "language": "python",
   "name": "python3"
  },
  "language_info": {
   "codemirror_mode": {
    "name": "ipython",
    "version": 3
   },
   "file_extension": ".py",
   "mimetype": "text/x-python",
   "name": "python",
   "nbconvert_exporter": "python",
   "pygments_lexer": "ipython3",
   "version": "3.8.5"
  }
 },
 "nbformat": 4,
 "nbformat_minor": 4
}
